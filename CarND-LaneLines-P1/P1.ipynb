{
 "cells": [
  {
   "cell_type": "markdown",
   "metadata": {},
   "source": [
    "# Self-Driving Car Engineer Nanodegree\n",
    "\n",
    "\n",
    "## Project: **Finding Lane Lines on the Road** \n",
    "***\n",
    "In this project, you will use the tools you learned about in the lesson to identify lane lines on the road.  You can develop your pipeline on a series of individual images, and later apply the result to a video stream (really just a series of images). Check out the video clip \"raw-lines-example.mp4\" (also contained in this repository) to see what the output should look like after using the helper functions below. \n",
    "\n",
    "Once you have a result that looks roughly like \"raw-lines-example.mp4\", you'll need to get creative and try to average and/or extrapolate the line segments you've detected to map out the full extent of the lane lines.  You can see an example of the result you're going for in the video \"P1_example.mp4\".  Ultimately, you would like to draw just one line for the left side of the lane, and one for the right.\n",
    "\n",
    "In addition to implementing code, there is a brief writeup to complete. The writeup should be completed in a separate file, which can be either a markdown file or a pdf document. There is a [write up template](https://github.com/udacity/CarND-LaneLines-P1/blob/master/writeup_template.md) that can be used to guide the writing process. Completing both the code in the Ipython notebook and the writeup template will cover all of the [rubric points](https://review.udacity.com/#!/rubrics/322/view) for this project.\n",
    "\n",
    "---\n",
    "Let's have a look at our first image called 'test_images/solidWhiteRight.jpg'.  Run the 2 cells below (hit Shift-Enter or the \"play\" button above) to display the image.\n",
    "\n",
    "**Note: If, at any point, you encounter frozen display windows or other confounding issues, you can always start again with a clean slate by going to the \"Kernel\" menu above and selecting \"Restart & Clear Output\".**\n",
    "\n",
    "---"
   ]
  },
  {
   "cell_type": "markdown",
   "metadata": {},
   "source": [
    "**The tools you have are color selection, region of interest selection, grayscaling, Gaussian smoothing, Canny Edge Detection and Hough Tranform line detection.  You  are also free to explore and try other techniques that were not presented in the lesson.  Your goal is piece together a pipeline to detect the line segments in the image, then average/extrapolate them and draw them onto the image for display (as below).  Once you have a working pipeline, try it out on the video stream below.**\n",
    "\n",
    "---\n",
    "\n",
    "<figure>\n",
    " <img src=\"examples/line-segments-example.jpg\" width=\"380\" alt=\"Combined Image\" />\n",
    " <figcaption>\n",
    " <p></p> \n",
    " <p style=\"text-align: center;\"> Your output should look something like this (above) after detecting line segments using the helper functions below </p> \n",
    " </figcaption>\n",
    "</figure>\n",
    " <p></p> \n",
    "<figure>\n",
    " <img src=\"examples/laneLines_thirdPass.jpg\" width=\"380\" alt=\"Combined Image\" />\n",
    " <figcaption>\n",
    " <p></p> \n",
    " <p style=\"text-align: center;\"> Your goal is to connect/average/extrapolate line segments to get output like this</p> \n",
    " </figcaption>\n",
    "</figure>"
   ]
  },
  {
   "cell_type": "markdown",
   "metadata": {},
   "source": [
    "**Run the cell below to import some packages.  If you get an `import error` for a package you've already installed, try changing your kernel (select the Kernel menu above --> Change Kernel).  Still have problems?  Try relaunching Jupyter Notebook from the terminal prompt.  Also, consult the forums for more troubleshooting tips.**  "
   ]
  },
  {
   "cell_type": "markdown",
   "metadata": {},
   "source": [
    "## Import Packages"
   ]
  },
  {
   "cell_type": "code",
   "execution_count": 1,
   "metadata": {},
   "outputs": [],
   "source": [
    "#importing some useful packages\n",
    "import matplotlib.pyplot as plt\n",
    "import cv2\n",
    "import os\n",
    "from os.path import join, basename\n",
    "from moviepy.editor import VideoFileClip\n",
    "from functions import line_detection, line_detection_video, line_detection_video_challenge\n",
    "\n",
    "import globalvariables\n",
    "import globalupdate\n",
    "%matplotlib inline"
   ]
  },
  {
   "cell_type": "markdown",
   "metadata": {},
   "source": [
    "## Test on Images"
   ]
  },
  {
   "cell_type": "code",
   "execution_count": 2,
   "metadata": {},
   "outputs": [
    {
     "name": "stdout",
     "output_type": "stream",
     "text": [
      "['test_images/solidYellowCurve.jpg', 'test_images/solidYellowCurve2.jpg', 'test_images/whiteCarLaneSwitch.jpg', 'test_images/solidWhiteCurve.jpg', 'test_images/solidWhiteRight.jpg', 'test_images/solidYellowLeft.jpg']\n",
      "Processing image: test_images/solidYellowCurve.jpg\n",
      "Processing image: test_images/solidYellowCurve2.jpg\n",
      "Processing image: test_images/whiteCarLaneSwitch.jpg\n",
      "Processing image: test_images/solidWhiteCurve.jpg\n",
      "Processing image: test_images/solidWhiteRight.jpg\n",
      "Processing image: test_images/solidYellowLeft.jpg\n"
     ]
    }
   ],
   "source": [
    "# test on images\n",
    "test_images_dir = 'test_images'\n",
    "test_images = [join(test_images_dir, name) for name in os.listdir(test_images_dir)]\n",
    "print (test_images)\n",
    "\n",
    "if not os.path.exists('results'):\n",
    "    folders = ['images','videos']\n",
    "    for folder in folders:\n",
    "        os.makedirs('results/%s'%(folder))\n",
    "\n",
    "\n",
    "for test_image in test_images:\n",
    "\n",
    "    print('Processing image: {}'.format(test_image))\n",
    "    out_path = os.path.join('results', 'images', basename(test_image))\n",
    "    input_image = cv2.cvtColor(cv2.imread(test_image, cv2.IMREAD_COLOR), cv2.COLOR_BGR2RGB)\n",
    "    out_image = line_detection([input_image])\n",
    "    cv2.imwrite(out_path, cv2.cvtColor(out_image, cv2.COLOR_RGB2BGR))\n",
    "\n",
    "\n",
    "plt.close('all')"
   ]
  },
  {
   "cell_type": "markdown",
   "metadata": {},
   "source": [
    "## Test on Videos"
   ]
  },
  {
   "cell_type": "code",
   "execution_count": 3,
   "metadata": {},
   "outputs": [
    {
     "name": "stdout",
     "output_type": "stream",
     "text": [
      "['test_videos/solidWhiteRight.mp4', 'test_videos/solidYellowLeft.mp4', 'test_videos/challenge.mp4']\n",
      "Processing video: test_videos/solidWhiteRight.mp4\n",
      "test_videos/solidWhiteRight.mp4\n",
      "<moviepy.video.io.VideoFileClip.VideoFileClip object at 0x7f3e0fe374e0>\n",
      "[MoviePy] >>>> Building video results/videos/solidWhiteRight.mp4\n",
      "[MoviePy] Writing video results/videos/solidWhiteRight.mp4\n"
     ]
    },
    {
     "name": "stderr",
     "output_type": "stream",
     "text": [
      "100%|█████████▉| 221/222 [00:04<00:00, 52.65it/s]\n"
     ]
    },
    {
     "name": "stdout",
     "output_type": "stream",
     "text": [
      "[MoviePy] Done.\n",
      "[MoviePy] >>>> Video ready: results/videos/solidWhiteRight.mp4 \n",
      "\n",
      "Processing video: test_videos/solidYellowLeft.mp4\n",
      "test_videos/solidYellowLeft.mp4\n",
      "<moviepy.video.io.VideoFileClip.VideoFileClip object at 0x7f3e0fe377f0>\n",
      "[MoviePy] >>>> Building video results/videos/solidYellowLeft.mp4\n",
      "[MoviePy] Writing video results/videos/solidYellowLeft.mp4\n"
     ]
    },
    {
     "name": "stderr",
     "output_type": "stream",
     "text": [
      "100%|█████████▉| 681/682 [00:12<00:00, 55.03it/s]\n"
     ]
    },
    {
     "name": "stdout",
     "output_type": "stream",
     "text": [
      "[MoviePy] Done.\n",
      "[MoviePy] >>>> Video ready: results/videos/solidYellowLeft.mp4 \n",
      "\n",
      "Processing video: test_videos/challenge.mp4\n",
      "test_videos/challenge.mp4\n",
      "<moviepy.video.io.VideoFileClip.VideoFileClip object at 0x7f3e0fe37a20>\n",
      "[MoviePy] >>>> Building video results/videos/challenge.mp4\n",
      "[MoviePy] Writing video results/videos/challenge.mp4\n"
     ]
    },
    {
     "name": "stderr",
     "output_type": "stream",
     "text": [
      "100%|██████████| 251/251 [00:08<00:00, 29.40it/s]\n"
     ]
    },
    {
     "name": "stdout",
     "output_type": "stream",
     "text": [
      "[MoviePy] Done.\n",
      "[MoviePy] >>>> Video ready: results/videos/challenge.mp4 \n",
      "\n"
     ]
    }
   ],
   "source": [
    "test_videos_dir = join('test_videos')\n",
    "test_videos = [join(test_videos_dir, name) for name in os.listdir(test_videos_dir)]\n",
    "print (test_videos)\n",
    "\n",
    "for test_video in test_videos:\n",
    "\n",
    "    print('Processing video: {}'.format(test_video))\n",
    "    print (test_video)\n",
    "    out_path = os.path.join('results', 'videos', basename(test_video))\n",
    "    # globalupdate.clear_history()\n",
    "\n",
    "    if test_video == 'test_videos/challenge.mp4':\n",
    "        clip1 = VideoFileClip(test_video)\n",
    "        print (clip1)\n",
    "        clip = clip1.fl_image(line_detection_video_challenge)\n",
    "        clip.write_videofile(out_path,audio = False)\n",
    "\n",
    "    else:    \n",
    "        clip1 = VideoFileClip(test_video)\n",
    "        print (clip1)\n",
    "        clip = clip1.fl_image(line_detection_video)\n",
    "        clip.write_videofile(out_path,audio = False)"
   ]
  }
 ],
 "metadata": {
  "anaconda-cloud": {},
  "kernelspec": {
   "display_name": "Python 3",
   "language": "python",
   "name": "python3"
  },
  "language_info": {
   "codemirror_mode": {
    "name": "ipython",
    "version": 3
   },
   "file_extension": ".py",
   "mimetype": "text/x-python",
   "name": "python",
   "nbconvert_exporter": "python",
   "pygments_lexer": "ipython3",
   "version": "3.5.2"
  }
 },
 "nbformat": 4,
 "nbformat_minor": 1
}
