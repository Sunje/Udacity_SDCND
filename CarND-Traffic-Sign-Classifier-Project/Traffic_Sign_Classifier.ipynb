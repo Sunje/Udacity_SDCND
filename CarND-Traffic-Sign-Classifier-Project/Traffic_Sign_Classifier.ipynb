{
 "cells": [
  {
   "cell_type": "markdown",
   "metadata": {},
   "source": [
    "# Self-Driving Car Engineer Nanodegree\n",
    "\n",
    "## Deep Learning\n",
    "\n",
    "## Project: Build a Traffic Sign Recognition Classifier\n",
    "\n",
    "In this notebook, a template is provided for you to implement your functionality in stages, which is required to successfully complete this project. If additional code is required that cannot be included in the notebook, be sure that the Python code is successfully imported and included in your submission if necessary. \n",
    "\n",
    "> **Note**: Once you have completed all of the code implementations, you need to finalize your work by exporting the iPython Notebook as an HTML document. Before exporting the notebook to html, all of the code cells need to have been run so that reviewers can see the final implementation and output. You can then export the notebook by using the menu above and navigating to  \\n\",\n",
    "    \"**File -> Download as -> HTML (.html)**. Include the finished document along with this notebook as your submission. \n",
    "\n",
    "In addition to implementing code, there is a writeup to complete. The writeup should be completed in a separate file, which can be either a markdown file or a pdf document. There is a [write up template](https://github.com/udacity/CarND-Traffic-Sign-Classifier-Project/blob/master/writeup_template.md) that can be used to guide the writing process. Completing the code template and writeup template will cover all of the [rubric points](https://review.udacity.com/#!/rubrics/481/view) for this project.\n",
    "\n",
    "The [rubric](https://review.udacity.com/#!/rubrics/481/view) contains \"Stand Out Suggestions\" for enhancing the project beyond the minimum requirements. The stand out suggestions are optional. If you decide to pursue the \"stand out suggestions\", you can include the code in this Ipython notebook and also discuss the results in the writeup file.\n",
    "\n",
    "\n",
    ">**Note:** Code and Markdown cells can be executed using the **Shift + Enter** keyboard shortcut. In addition, Markdown cells can be edited by typically double-clicking the cell to enter edit mode."
   ]
  },
  {
   "cell_type": "markdown",
   "metadata": {},
   "source": [
    "---\n",
    "## Step 0: Load The Data"
   ]
  },
  {
   "cell_type": "code",
   "execution_count": 1,
   "metadata": {},
   "outputs": [
    {
     "name": "stdout",
     "output_type": "stream",
     "text": [
      "X_train shape: (34799, 32, 32, 3)\n",
      "y_train shape: (34799,)\n",
      "X_valid shape: (4410, 32, 32, 3)\n",
      "y_valid shape: (4410,)\n",
      "X_test shape:  (12630, 32, 32, 3)\n",
      "y_test shape:  (12630,)\n"
     ]
    }
   ],
   "source": [
    "# Load pickled data\n",
    "import pickle\n",
    "\n",
    "# TODO: Fill this in based on where you saved the training and testing data\n",
    "\n",
    "training_file = \"./traffic-signs-data/train.p\"\n",
    "validation_file= \"./traffic-signs-data/valid.p\"\n",
    "testing_file = \"./traffic-signs-data/test.p\"\n",
    "\n",
    "with open(training_file, mode='rb') as f:\n",
    "    train = pickle.load(f)\n",
    "with open(validation_file, mode='rb') as f:\n",
    "    valid = pickle.load(f)\n",
    "with open(testing_file, mode='rb') as f:\n",
    "    test = pickle.load(f)\n",
    "    \n",
    "X_train, y_train = train['features'], train['labels']\n",
    "X_valid, y_valid = valid['features'], valid['labels']\n",
    "X_test, y_test = test['features'], test['labels']\n",
    "\n",
    "print (\"X_train shape: {}\".format(X_train.shape))\n",
    "print (\"y_train shape: {}\".format(y_train.shape))\n",
    "print (\"X_valid shape: {}\".format(X_valid.shape))\n",
    "print (\"y_valid shape: {}\".format(y_valid.shape))\n",
    "print (\"X_test shape:  {}\".format(X_test.shape))\n",
    "print (\"y_test shape:  {}\".format(y_test.shape))"
   ]
  },
  {
   "cell_type": "markdown",
   "metadata": {},
   "source": [
    "---\n",
    "\n",
    "## Step 1: Dataset Summary & Exploration\n",
    "\n",
    "The pickled data is a dictionary with 4 key/value pairs:\n",
    "\n",
    "- `'features'` is a 4D array containing raw pixel data of the traffic sign images, (num examples, width, height, channels).\n",
    "- `'labels'` is a 1D array containing the label/class id of the traffic sign. The file `signnames.csv` contains id -> name mappings for each id.\n",
    "- `'sizes'` is a list containing tuples, (width, height) representing the original width and height the image.\n",
    "- `'coords'` is a list containing tuples, (x1, y1, x2, y2) representing coordinates of a bounding box around the sign in the image. **THESE COORDINATES ASSUME THE ORIGINAL IMAGE. THE PICKLED DATA CONTAINS RESIZED VERSIONS (32 by 32) OF THESE IMAGES**\n",
    "\n",
    "Complete the basic data summary below. Use python, numpy and/or pandas methods to calculate the data summary rather than hard coding the results. For example, the [pandas shape method](http://pandas.pydata.org/pandas-docs/stable/generated/pandas.DataFrame.shape.html) might be useful for calculating some of the summary results. "
   ]
  },
  {
   "cell_type": "markdown",
   "metadata": {},
   "source": [
    "### Provide a Basic Summary of the Data Set Using Python, Numpy and/or Pandas"
   ]
  },
  {
   "cell_type": "code",
   "execution_count": 2,
   "metadata": {},
   "outputs": [
    {
     "name": "stdout",
     "output_type": "stream",
     "text": [
      "Number of training examples = 34799\n",
      "Number of validation examples = 4410\n",
      "Number of testing examples = 12630\n",
      "Image data shape = (32, 32, 3)\n",
      "Number of classes = 43\n"
     ]
    }
   ],
   "source": [
    "### Replace each question mark with the appropriate value. \n",
    "### Use python, pandas or numpy methods rather than hard coding the results\n",
    "\n",
    "import numpy as np\n",
    "\n",
    "# TODO: Number of training examples\n",
    "n_train = X_train.shape[0]\n",
    "\n",
    "# TODO: Number of validation examples\n",
    "n_validation = X_valid.shape[0]\n",
    "\n",
    "# TODO: Number of testing examples.\n",
    "n_test = X_test.shape[0]\n",
    "\n",
    "# TODO: What's the shape of an traffic sign image?\n",
    "image_shape = X_train[0].shape\n",
    "\n",
    "# TODO: How many unique classes/labels there are in the dataset.\n",
    "n_classes = len(np.unique(y_train))\n",
    "\n",
    "print(\"Number of training examples =\", n_train)\n",
    "print(\"Number of validation examples =\", n_validation)\n",
    "print(\"Number of testing examples =\", n_test)\n",
    "print(\"Image data shape =\", image_shape)\n",
    "print(\"Number of classes =\", n_classes)"
   ]
  },
  {
   "cell_type": "markdown",
   "metadata": {},
   "source": [
    "### Include an exploratory visualization of the dataset"
   ]
  },
  {
   "cell_type": "markdown",
   "metadata": {},
   "source": [
    "Visualize the German Traffic Signs Dataset using the pickled file(s). This is open ended, suggestions include: plotting traffic sign images, plotting the count of each sign, etc. \n",
    "\n",
    "The [Matplotlib](http://matplotlib.org/) [examples](http://matplotlib.org/examples/index.html) and [gallery](http://matplotlib.org/gallery.html) pages are a great resource for doing visualizations in Python.\n",
    "\n",
    "**NOTE:** It's recommended you start with something simple first. If you wish to do more, come back to it after you've completed the rest of the sections. It can be interesting to look at the distribution of classes in the training, validation and test set. Is the distribution the same? Are there more examples of some classes than others?"
   ]
  },
  {
   "cell_type": "code",
   "execution_count": 3,
   "metadata": {},
   "outputs": [
    {
     "name": "stdout",
     "output_type": "stream",
     "text": [
      "13\n"
     ]
    },
    {
     "data": {
      "image/png": "[encoded data removed]",
      "text/plain": [
       "<Figure size 432x288 with 1 Axes>"
      ]
     },
     "metadata": {},
     "output_type": "display_data"
    }
   ],
   "source": [
    "### Data exploration visualization code goes here.\n",
    "### Feel free to use as many code cells as needed.\n",
    "\n",
    "import random\n",
    "import matplotlib.pyplot as plt\n",
    "# Visualizations will be shown in the notebook.\n",
    "%matplotlib inline\n",
    "\n",
    "index = random.randint(0,n_train)\n",
    "image = X_train[index]\n",
    "\n",
    "plt.figure()\n",
    "plt.imshow(image)\n",
    "print (y_train[index])"
   ]
  },
  {
   "cell_type": "code",
   "execution_count": 4,
   "metadata": {},
   "outputs": [
    {
     "data": {
      "image/png": "[encoded data removed]",
      "text/plain": [
       "<Figure size 432x288 with 1 Axes>"
      ]
     },
     "metadata": {},
     "output_type": "display_data"
    }
   ],
   "source": [
    "unique_train, counts_train = np.unique(y_train, return_counts=True)\n",
    "plt.bar(unique_train, counts_train)\n",
    "plt.grid()\n",
    "plt.title(\"Train Dataset Sign Counts\")\n",
    "plt.show()"
   ]
  },
  {
   "cell_type": "markdown",
   "metadata": {},
   "source": [
    "----\n",
    "\n",
    "## Step 2: Design and Test a Model Architecture\n",
    "\n",
    "Design and implement a deep learning model that learns to recognize traffic signs. Train and test your model on the [German Traffic Sign Dataset](http://benchmark.ini.rub.de/?section=gtsrb&subsection=dataset).\n",
    "\n",
    "The LeNet-5 implementation shown in the [classroom](https://classroom.udacity.com/nanodegrees/nd013/parts/fbf77062-5703-404e-b60c-95b78b2f3f9e/modules/6df7ae49-c61c-4bb2-a23e-6527e69209ec/lessons/601ae704-1035-4287-8b11-e2c2716217ad/concepts/d4aca031-508f-4e0b-b493-e7b706120f81) at the end of the CNN lesson is a solid starting point. You'll have to change the number of classes and possibly the preprocessing, but aside from that it's plug and play! \n",
    "\n",
    "With the LeNet-5 solution from the lecture, you should expect a validation set accuracy of about 0.89. To meet specifications, the validation set accuracy will need to be at least 0.93. It is possible to get an even higher accuracy, but 0.93 is the minimum for a successful project submission. \n",
    "\n",
    "There are various aspects to consider when thinking about this problem:\n",
    "\n",
    "- Neural network architecture (is the network over or underfitting?)\n",
    "- Play around preprocessing techniques (normalization, rgb to grayscale, etc)\n",
    "- Number of examples per label (some have more than others).\n",
    "- Generate fake data.\n",
    "\n",
    "Here is an example of a [published baseline model on this problem](http://yann.lecun.com/exdb/publis/pdf/sermanet-ijcnn-11.pdf). It's not required to be familiar with the approach used in the paper but, it's good practice to try to read papers like these."
   ]
  },
  {
   "cell_type": "markdown",
   "metadata": {},
   "source": [
    "### Pre-process the Data Set (normalization, grayscale, etc.)"
   ]
  },
  {
   "cell_type": "markdown",
   "metadata": {},
   "source": [
    "Minimally, the image data should be normalized so that the data has mean zero and equal variance. For image data, `(pixel - 128)/ 128` is a quick way to approximately normalize the data and can be used in this project. \n",
    "\n",
    "Other pre-processing steps are optional. You can try different techniques to see if it improves performance. \n",
    "\n",
    "Use the code cell (or multiple code cells, if necessary) to implement the first step of your project."
   ]
  },
  {
   "cell_type": "code",
   "execution_count": 5,
   "metadata": {},
   "outputs": [
    {
     "data": {
      "text/plain": [
       "<matplotlib.image.AxesImage at 0x7fa9aa29dda0>"
      ]
     },
     "execution_count": 5,
     "metadata": {},
     "output_type": "execute_result"
    },
    {
     "data": {
      "image/png": "[encoded data removed]",
      "text/plain": [
       "<Figure size 432x288 with 2 Axes>"
      ]
     },
     "metadata": {},
     "output_type": "display_data"
    }
   ],
   "source": [
    "### Preprocess the data here. It is required to normalize the data. Other preprocessing steps could include \n",
    "### converting to grayscale, etc.\n",
    "### Feel free to use as many code cells as needed.\n",
    "\n",
    "X_train_gry = np.sum(X_train/3, axis=3, keepdims=True)\n",
    "X_train_normalized = (X_train_gry - 128)/128\n",
    "X_valid_gry = np.sum(X_valid/3, axis=3, keepdims=True)\n",
    "X_valid_normalized = (X_valid_gry - 128)/128\n",
    "X_test_gry = np.sum(X_test/3, axis=3, keepdims=True)\n",
    "X_test_normalized = (X_test_gry - 128)/128\n",
    "\n",
    "fig, axs = plt.subplots(1,2)\n",
    "axs = axs.ravel()\n",
    "axs[0].imshow(X_train[index])\n",
    "axs[1].imshow(X_train_normalized[index].squeeze(),cmap='gray')\n"
   ]
  },
  {
   "cell_type": "markdown",
   "metadata": {},
   "source": [
    "### Model Architecture"
   ]
  },
  {
   "cell_type": "code",
   "execution_count": 6,
   "metadata": {},
   "outputs": [
    {
     "name": "stderr",
     "output_type": "stream",
     "text": [
      "/usr/local/lib/python3.5/dist-packages/h5py/__init__.py:36: FutureWarning: Conversion of the second argument of issubdtype from `float` to `np.floating` is deprecated. In future, it will be treated as `np.float64 == np.dtype(float).type`.\n",
      "  from ._conv import register_converters as _register_converters\n"
     ]
    }
   ],
   "source": [
    "### Define your architecture here.\n",
    "### Feel free to use as many code cells as needed.\n",
    "\n",
    "from sklearn.utils import shuffle\n",
    "import tensorflow as tf\n",
    "from tensorflow.contrib.layers import flatten\n",
    "\n",
    "# LeNet uses gray scaled image\n",
    "lenet_X_train, lenet_y_train = shuffle(X_train_normalized, y_train)\n",
    "# AlexNet uses rgb image\n",
    "alexnet_X_train, alexnet_y_train = shuffle(X_train,y_train)\n",
    "\n",
    "\n",
    "def LeNet(L_x):    \n",
    "    # Arguments used for tf.truncated_normal, randomly defines variables for the weights and biases for each layer\n",
    "    mu = 0\n",
    "    sigma = 0.1\n",
    "    \n",
    "    # Layer 1: Convolutional. Input = 32x32x1. Output = 28x28x6.\n",
    "    L_conv1_W = tf.Variable(tf.truncated_normal(shape=(5, 5, 1, 6), mean=mu, stddev = sigma))\n",
    "    L_conv1_b = tf.Variable(tf.zeros(6))\n",
    "    L_conv1 = tf.nn.conv2d(L_x, L_conv1_W, strides=[1, 1, 1, 1], padding='VALID') + L_conv1_b\n",
    "    # Activation.\n",
    "    L_conv1 = tf.nn.relu(L_conv1)\n",
    "    \n",
    "    # Pooling. Input = 28x28x6. Output = 14x14x6.\n",
    "    L_conv1 = tf.nn.max_pool(L_conv1, ksize=[1, 2, 2, 1], strides=[1, 2, 2, 1], padding='VALID')\n",
    "    \n",
    "    \n",
    "    # Layer 2: Convolutional. Input = 14x14x6. Output = 10x10x16.\n",
    "    L_conv2_W = tf.Variable(tf.truncated_normal(shape=(5, 5, 6, 16), mean = mu, stddev = sigma))\n",
    "    L_conv2_b = tf.Variable(tf.zeros(16))\n",
    "    L_conv2 = tf.nn.conv2d(L_conv1, L_conv2_W, strides=[1, 1, 1, 1], padding='VALID') + L_conv2_b\n",
    "    # Activation.\n",
    "    L_conv2 = tf.nn.relu(L_conv2)\n",
    "    \n",
    "    # Pooling. Input = 10x10x16. Output = 5x5x16.\n",
    "    L_conv2 = tf.nn.max_pool(L_conv2, ksize=[1, 2, 2, 1], strides=[1, 2, 2, 1], padding='VALID')\n",
    "    \n",
    "    \n",
    "    # Layer 3: Convolutional. Input = 5x5x16. Output = 1x1x412.\n",
    "    L_conv3_W = tf.Variable(tf.truncated_normal(shape=(5, 5, 16, 412), mean = mu, stddev = sigma))\n",
    "    L_conv3_b = tf.Variable(tf.zeros(412))\n",
    "    L_conv3 = tf.nn.conv2d(L_conv2, L_conv3_W, strides=[1, 1, 1, 1], padding='VALID') + L_conv3_b\n",
    "    # Activation.\n",
    "    L_conv3 = tf.nn.relu(L_conv3)\n",
    "    \n",
    "    # Flatten. Input = 1x1x412. Output = 412.\n",
    "    L_fc0 = flatten(L_conv3)\n",
    "    \n",
    "    \n",
    "    # Layer 4: Fully Connected. Input = 412. Output = 122.\n",
    "    L_fc1_W = tf.Variable(tf.truncated_normal(shape=(412, 122), mean = mu, stddev = sigma))\n",
    "    L_fc1_b = tf.Variable(tf.zeros(122))\n",
    "    L_fc1 = tf.matmul(L_fc0, L_fc1_W) + L_fc1_b\n",
    "    # Activation.\n",
    "    L_fc1 = tf.nn.relu(L_fc1)\n",
    "    # Dropout\n",
    "    L_fc1 = tf.nn.dropout(L_fc1,L_keep_prob)\n",
    "\n",
    "    \n",
    "    # Layer 5: Fully Connected. Input = 122. Output = 84.\n",
    "    L_fc2_W = tf.Variable(tf.truncated_normal(shape=(122, 84), mean = mu, stddev = sigma))\n",
    "    L_fc2_b = tf.Variable(tf.zeros(84))\n",
    "    L_fc2 = tf.matmul(L_fc1,L_fc2_W) + L_fc2_b\n",
    "    # Activation.\n",
    "    L_fc2 = tf.nn.relu(L_fc2)\n",
    "    # Dropout\n",
    "    L_fc2 = tf.nn.dropout(L_fc2,L_keep_prob)\n",
    "    \n",
    "    \n",
    "    # Layer 6: Fully Connected. Input = 84. Output = 43.\n",
    "    L_fc3_W = tf.Variable(tf.truncated_normal(shape=(84,43),mean=mu,stddev=sigma))\n",
    "    L_fc3_b = tf.Variable(tf.zeros(43))\n",
    "    L_logits = tf.matmul(L_fc2,L_fc3_W) + L_fc3_b\n",
    "    \n",
    "    return L_logits\n",
    "\n",
    "\n",
    "\n",
    "def AlexNet(A_x):\n",
    "    mu = 0\n",
    "    sigma = 0.1\n",
    "    \n",
    "    \n",
    "    # Layer 1: Convolutional. Input = 32x32x3. Output = 16x16x12.\n",
    "    A_conv1_W = tf.Variable(tf.truncated_normal([2, 2, 3, 12],mean=mu,stddev=sigma))\n",
    "    A_conv1_b = tf.Variable(tf.constant(0.0, shape=[12]))\n",
    "    A_conv1 = tf.nn.conv2d(A_x, A_conv1_W, strides=[1, 2, 2, 1], padding=\"SAME\")\n",
    "    A_conv1 = tf.nn.bias_add(A_conv1, A_conv1_b)\n",
    "    A_conv1 = tf.nn.relu(A_conv1)\n",
    "    A_conv1 = tf.nn.local_response_normalization(A_conv1)\n",
    "    print (\"A_conv1 shape: \",A_conv1.shape)\n",
    "    # Input = 16x16x12. Output = 8x8x12\n",
    "    A_conv1 = tf.nn.max_pool(A_conv1, ksize=[1, 2, 2, 1], strides=[1, 2, 2, 1], padding=\"VALID\")\n",
    "    print (\"A_conv1 shape: \",A_conv1.shape)\n",
    "    \n",
    "    # Layer 2: Convolutional. Input = 8x8x12. Output = 8x8x48.\n",
    "    A_conv2_W = tf.Variable(tf.truncated_normal([5, 5, 12, 48],mean=mu,stddev=sigma))\n",
    "    A_conv2_b = tf.Variable(tf.constant(1.0, shape=[48]))\n",
    "    A_conv2 = tf.nn.conv2d(A_conv1, A_conv2_W, strides=[1, 1, 1, 1], padding=\"SAME\")\n",
    "    A_conv2 = tf.nn.bias_add(A_conv2, A_conv2_b)\n",
    "    A_conv2 = tf.nn.relu(A_conv2)\n",
    "    A_conv2 = tf.nn.local_response_normalization(A_conv2)\n",
    "    print (\"A_conv2 shape: \",A_conv2.shape)\n",
    "    # Input = 8x8x48. Output = 4x4x48.\n",
    "    A_conv2 = tf.nn.max_pool(A_conv2, ksize=[1, 2, 2, 1], strides=[1, 2, 2, 1], padding=\"VALID\")\n",
    "    print (\"A_conv2 shape: \",A_conv2.shape)\n",
    "    \n",
    "    # Layer 3: Convolutional. Input = 4x4x48. Output = 4x4x384.\n",
    "    A_conv3_W = tf.Variable(tf.truncated_normal([3, 3, 48, 384],mean=mu,stddev=sigma))\n",
    "    A_conv3_b = tf.Variable(tf.constant(0.0, shape=[384]))\n",
    "    A_conv3 = tf.nn.conv2d(A_conv2, A_conv3_W, strides=[1, 1, 1, 1], padding=\"SAME\")\n",
    "    A_conv3 = tf.nn.bias_add(A_conv3, A_conv3_b)\n",
    "    A_conv3 = tf.nn.relu(A_conv3)\n",
    "    print (\"A_conv3 shape: \",A_conv3.shape)\n",
    "    \n",
    "    # Layer 4: Convolutional. Input = 4x4x384. Output = 4x4x384.\n",
    "    A_conv4_W = tf.Variable(tf.truncated_normal([3, 3, 384, 384],mean=mu,stddev=sigma))\n",
    "    A_conv4_b = tf.Variable(tf.constant(1.0, shape=[384]))\n",
    "    A_conv4 = tf.nn.conv2d(A_conv3, A_conv4_W, strides=[1, 1, 1, 1], padding=\"SAME\")\n",
    "    A_conv4 = tf.nn.bias_add(A_conv4, A_conv4_b)\n",
    "    A_conv4 = tf.nn.relu(A_conv4)\n",
    "    print (\"A_conv4 shape: \",A_conv4.shape)\n",
    "    \n",
    "    # Layer 5: Convolutional. Input = 4x4x384. Output = 4x4x256.\n",
    "    A_conv5_W = tf.Variable(tf.truncated_normal([3, 3, 384, 256],mean=mu,stddev=sigma))\n",
    "    A_conv5_b = tf.Variable(tf.constant(1.0, shape=[256]))\n",
    "    A_conv5 = tf.nn.conv2d(A_conv4, A_conv5_W, strides=[1, 1, 1, 1], padding=\"SAME\")\n",
    "    A_conv5 = tf.nn.bias_add(A_conv5, A_conv5_b)\n",
    "    A_conv5 = tf.nn.relu(A_conv5)\n",
    "    print (\"A_conv5 shape: \",A_conv5.shape)\n",
    "    # Input = 4x4x256. Output = 2x2x256\n",
    "    A_conv5 = tf.nn.max_pool(A_conv5, ksize=[1, 2, 2, 1], strides=[1, 2, 2, 1], padding=\"VALID\")\n",
    "    print (\"A_conv5 shape: \",A_conv5.shape)\n",
    "    \n",
    "    # Flatten.\n",
    "    A_fc0 = flatten(A_conv5)\n",
    "    print (\"A_fc0 shape: \",A_fc0.shape)\n",
    "    \n",
    "    # Layer 6: Fully Connected. Input = 2*2*256. Output = 256.\n",
    "    A_fc1_W = tf.Variable(tf.truncated_normal([2*2*256, 256],mean=mu,stddev=sigma))\n",
    "    A_fc1_b = tf.Variable(tf.constant(1.0, shape=[256]))\n",
    "    A_fc1 = tf.matmul(A_fc0, A_fc1_W) + A_fc1_b\n",
    "    A_fc1 = tf.nn.tanh(A_fc1)\n",
    "    print (\"A_fc1 shape: \",A_fc1.shape)\n",
    "    A_fc1 = tf.nn.dropout(A_fc1, A_keep_prob)\n",
    "    \n",
    "    # Layer 7: Fully Connected. Input = 256. Ouput = 256.\n",
    "    A_fc2_W = tf.Variable(tf.truncated_normal([256, 256],mean=mu,stddev=sigma))\n",
    "    A_fc2_b = tf.Variable(tf.constant(1.0, shape=[256]))\n",
    "    A_fc2 = tf.matmul(A_fc1, A_fc2_W) + A_fc2_b\n",
    "    A_fc2 = tf.nn.tanh(A_fc2)\n",
    "    print (\"A_fc2 shape: \",A_fc2.shape)\n",
    "    A_fc2 = tf.nn.dropout(A_fc2, A_keep_prob)\n",
    "    \n",
    "    # Layer 8: Fully Connected. Input = 256. Output = 256.\n",
    "    A_fc3_W = tf.Variable(tf.truncated_normal([256, 43],mean=mu,stddev=sigma))\n",
    "    A_fc3_b = tf.Variable(tf.constant(1.0, shape=[43]))\n",
    "    A_fc3 = tf.matmul(A_fc2, A_fc3_W) + A_fc3_b\n",
    "    A_logits = tf.nn.softmax(A_fc3)\n",
    "    print (\"A_fc3 shape: \",A_fc3.shape)\n",
    "    \n",
    "    return A_logits\n",
    "    "
   ]
  },
  {
   "cell_type": "markdown",
   "metadata": {},
   "source": [
    "### Train, Validate and Test the Model"
   ]
  },
  {
   "cell_type": "markdown",
   "metadata": {},
   "source": [
    "A validation set can be used to assess how well the model is performing. A low accuracy on the training and validation\n",
    "sets imply underfitting. A high accuracy on the training set but low accuracy on the validation set implies overfitting.\n"
   ]
  },
  {
   "cell_type": "markdown",
   "metadata": {},
   "source": [
    "### LeNet-5 CNN\n"
   ]
  },
  {
   "cell_type": "code",
   "execution_count": 7,
   "metadata": {},
   "outputs": [
    {
     "name": "stdout",
     "output_type": "stream",
     "text": [
      "WARNING:tensorflow:From <ipython-input-7-fa7ebe2e0cb6>:19: softmax_cross_entropy_with_logits (from tensorflow.python.ops.nn_ops) is deprecated and will be removed in a future version.\n",
      "Instructions for updating:\n",
      "\n",
      "Future major versions of TensorFlow will allow gradients to flow\n",
      "into the labels input on backprop by default.\n",
      "\n",
      "See @{tf.nn.softmax_cross_entropy_with_logits_v2}.\n",
      "\n"
     ]
    }
   ],
   "source": [
    "### Train your model here.\n",
    "### Calculate and report the accuracy on the training and validation set.\n",
    "### Once a final model architecture is selected, \n",
    "### the accuracy on the test set should be calculated and reported as well.\n",
    "### Feel free to use as many code cells as needed.\n",
    "\n",
    "L_x = tf.placeholder(tf.float32, (None, 32, 32, 1))\n",
    "L_y = tf.placeholder(tf.int32, (None))\n",
    "L_one_hot_y = tf.one_hot(L_y, 43)\n",
    "L_keep_prob = tf.placeholder(tf.float32)\n",
    "\n",
    "L_rate = 0.001\n",
    "L_EPOCHS = 10\n",
    "L_BATCH_SIZE = 128\n",
    "L_drop_out_prob = 0.5\n",
    "\n",
    "L_logits = LeNet(L_x)\n",
    "\n",
    "L_cross_entropy = tf.nn.softmax_cross_entropy_with_logits(labels=L_one_hot_y, logits=L_logits)\n",
    "L_loss_operation = tf.reduce_mean(L_cross_entropy)\n",
    "L_optimizer = tf.train.AdamOptimizer(learning_rate = L_rate)\n",
    "L_training_operation = L_optimizer.minimize(L_loss_operation)\n",
    "\n",
    "L_correct_prediction = tf.equal(tf.argmax(L_logits, 1), tf.argmax(L_one_hot_y, 1))\n",
    "L_accuracy_operation = tf.reduce_mean(tf.cast(L_correct_prediction, tf.float32))\n",
    "L_saver = tf.train.Saver()\n",
    "\n",
    "def L_evaluate(X_data, y_data):\n",
    "    num_examples = len(X_data)\n",
    "    total_accuracy = 0\n",
    "    sess = tf.get_default_session()\n",
    "    for offset in range(0, num_examples, L_BATCH_SIZE):\n",
    "        batch_x, batch_y = X_data[offset:offset+L_BATCH_SIZE], y_data[offset:offset+L_BATCH_SIZE]\n",
    "        accuracy = sess.run(L_accuracy_operation, feed_dict={L_x: batch_x, L_y: batch_y, L_keep_prob:1.0})\n",
    "        total_accuracy += (accuracy * len(batch_x))\n",
    "    return total_accuracy / num_examples"
   ]
  },
  {
   "cell_type": "code",
   "execution_count": 8,
   "metadata": {},
   "outputs": [
    {
     "name": "stdout",
     "output_type": "stream",
     "text": [
      "Training...\n",
      "\n",
      "EPOCH 1 ...\n",
      "Validation Accuracy = 0.701\n",
      "\n",
      "EPOCH 2 ...\n",
      "Validation Accuracy = 0.833\n",
      "\n",
      "EPOCH 3 ...\n",
      "Validation Accuracy = 0.887\n",
      "\n",
      "EPOCH 4 ...\n",
      "Validation Accuracy = 0.903\n",
      "\n",
      "EPOCH 5 ...\n",
      "Validation Accuracy = 0.917\n",
      "\n",
      "EPOCH 6 ...\n",
      "Validation Accuracy = 0.925\n",
      "\n",
      "EPOCH 7 ...\n",
      "Validation Accuracy = 0.918\n",
      "\n",
      "EPOCH 8 ...\n",
      "Validation Accuracy = 0.924\n",
      "\n",
      "EPOCH 9 ...\n",
      "Validation Accuracy = 0.929\n",
      "\n",
      "EPOCH 10 ...\n",
      "Validation Accuracy = 0.943\n",
      "\n",
      "Model saved\n"
     ]
    }
   ],
   "source": [
    "with tf.Session() as sess:\n",
    "    sess.run(tf.global_variables_initializer())\n",
    "    num_examples = len(X_train)\n",
    "    \n",
    "    print(\"Training...\")\n",
    "    print()\n",
    "    for i in range(L_EPOCHS):\n",
    "        lenet_X_train, lenet_y_train = shuffle(lenet_X_train, lenet_y_train)\n",
    "        \n",
    "        for offset in range(0, num_examples, L_BATCH_SIZE):\n",
    "            end = offset + L_BATCH_SIZE\n",
    "            batch_x, batch_y = lenet_X_train[offset:end], lenet_y_train[offset:end]\n",
    "            sess.run(L_training_operation, feed_dict={L_x: batch_x, L_y: batch_y, L_keep_prob: L_drop_out_prob})\n",
    "            \n",
    "        validation_accuracy = L_evaluate(X_valid_normalized, y_valid)\n",
    "        print(\"EPOCH {} ...\".format(i+1))\n",
    "        print(\"Validation Accuracy = {:.3f}\".format(validation_accuracy))\n",
    "        print()\n",
    "        \n",
    "    L_saver.save(sess, './lenet')\n",
    "    print(\"Model saved\")\n",
    "    \n",
    "    "
   ]
  },
  {
   "cell_type": "markdown",
   "metadata": {},
   "source": [
    "\n",
    "### AlexNet\n"
   ]
  },
  {
   "cell_type": "code",
   "execution_count": 9,
   "metadata": {},
   "outputs": [
    {
     "name": "stdout",
     "output_type": "stream",
     "text": [
      "A_conv1 shape:  (?, 16, 16, 12)\n",
      "A_conv1 shape:  (?, 8, 8, 12)\n",
      "A_conv2 shape:  (?, 8, 8, 48)\n",
      "A_conv2 shape:  (?, 4, 4, 48)\n",
      "A_conv3 shape:  (?, 4, 4, 384)\n",
      "A_conv4 shape:  (?, 4, 4, 384)\n",
      "A_conv5 shape:  (?, 4, 4, 256)\n",
      "A_conv5 shape:  (?, 2, 2, 256)\n",
      "A_fc0 shape:  (?, 1024)\n",
      "A_fc1 shape:  (?, 256)\n",
      "A_fc2 shape:  (?, 256)\n",
      "A_fc3 shape:  (?, 43)\n"
     ]
    }
   ],
   "source": [
    "### Train your model here.\n",
    "### Calculate and report the accuracy on the training and validation set.\n",
    "### Once a final model architecture is selected, \n",
    "### the accuracy on the test set should be calculated and reported as well.\n",
    "### Feel free to use as many code cells as needed.\n",
    "\n",
    "A_x = tf.placeholder(tf.float32, (None, 32, 32, 3))\n",
    "A_y = tf.placeholder(tf.int32, (None))\n",
    "A_one_hot_y = tf.one_hot(A_y, 43)\n",
    "A_keep_prob = tf.placeholder(tf.float32)\n",
    "\n",
    "A_rate = 0.001\n",
    "A_EPOCHS = 10\n",
    "A_BATCH_SIZE = 64\n",
    "A_drop_out_prob = 0.5\n",
    "\n",
    "A_logits = AlexNet(A_x)\n",
    "\n",
    "A_cross_entropy = tf.nn.softmax_cross_entropy_with_logits(labels=A_one_hot_y, logits=A_logits)\n",
    "A_loss_operation = tf.reduce_mean(A_cross_entropy)\n",
    "A_optimizer = tf.train.AdamOptimizer(learning_rate = A_rate)\n",
    "A_training_operation = A_optimizer.minimize(A_loss_operation)\n",
    "\n",
    "A_correct_prediction = tf.equal(tf.argmax(A_logits, 1), tf.argmax(A_one_hot_y, 1))\n",
    "A_accuracy_operation = tf.reduce_mean(tf.cast(A_correct_prediction, tf.float32))\n",
    "A_saver = tf.train.Saver()\n",
    "\n",
    "def A_evaluate(X_data, y_data):\n",
    "    num_examples = len(X_data)\n",
    "    total_accuracy = 0\n",
    "    sess = tf.get_default_session()\n",
    "    for offset in range(0, num_examples, A_BATCH_SIZE):\n",
    "        batch_x, batch_y = X_data[offset:offset+A_BATCH_SIZE], y_data[offset:offset+A_BATCH_SIZE]\n",
    "        accuracy = sess.run(A_accuracy_operation, feed_dict={A_x: batch_x, A_y: batch_y, A_keep_prob:1.0})\n",
    "        total_accuracy += (accuracy * len(batch_x))\n",
    "    return total_accuracy / num_examples"
   ]
  },
  {
   "cell_type": "code",
   "execution_count": 10,
   "metadata": {},
   "outputs": [
    {
     "name": "stdout",
     "output_type": "stream",
     "text": [
      "Training...\n",
      "\n",
      "EPOCH 1 ...\n",
      "Validation Accuracy = 0.054\n",
      "\n",
      "EPOCH 2 ...\n",
      "Validation Accuracy = 0.054\n",
      "\n",
      "EPOCH 3 ...\n",
      "Validation Accuracy = 0.054\n",
      "\n",
      "EPOCH 4 ...\n",
      "Validation Accuracy = 0.048\n",
      "\n",
      "EPOCH 5 ...\n",
      "Validation Accuracy = 0.048\n",
      "\n",
      "EPOCH 6 ...\n",
      "Validation Accuracy = 0.048\n",
      "\n",
      "EPOCH 7 ...\n",
      "Validation Accuracy = 0.054\n",
      "\n",
      "EPOCH 8 ...\n",
      "Validation Accuracy = 0.054\n",
      "\n",
      "EPOCH 9 ...\n",
      "Validation Accuracy = 0.054\n",
      "\n",
      "EPOCH 10 ...\n",
      "Validation Accuracy = 0.054\n",
      "\n",
      "Model saved\n"
     ]
    }
   ],
   "source": [
    "with tf.Session() as sess:\n",
    "    sess.run(tf.global_variables_initializer())\n",
    "    num_examples = len(X_train)\n",
    "    \n",
    "    print(\"Training...\")\n",
    "    print()\n",
    "    for i in range(A_EPOCHS):\n",
    "        alexnet_X_train, alexnet_y_train = shuffle(alexnet_X_train, alexnet_y_train)\n",
    "        \n",
    "        for offset in range(0, num_examples, A_BATCH_SIZE):\n",
    "            end = offset + A_BATCH_SIZE\n",
    "            batch_x, batch_y = alexnet_X_train[offset:end], alexnet_y_train[offset:end]\n",
    "            sess.run(A_training_operation, feed_dict={A_x: batch_x, A_y: batch_y, A_keep_prob: A_drop_out_prob})\n",
    "            \n",
    "        validation_accuracy = A_evaluate(X_valid, y_valid)\n",
    "        print(\"EPOCH {} ...\".format(i+1))\n",
    "        print(\"Validation Accuracy = {:.3f}\".format(validation_accuracy))\n",
    "        print()\n",
    "        \n",
    "    A_saver.save(sess, './alexnet')\n",
    "    print(\"Model saved\")\n",
    "    \n",
    "    "
   ]
  },
  {
   "cell_type": "markdown",
   "metadata": {},
   "source": [
    "---\n",
    "\n",
    "## Step 3: Test a Model on New Images\n",
    "\n",
    "To give yourself more insight into how your model is working, download at least five pictures of German traffic signs from the web and use your model to predict the traffic sign type.\n",
    "\n",
    "You may find `signnames.csv` useful as it contains mappings from the class id (integer) to the actual sign name."
   ]
  },
  {
   "cell_type": "markdown",
   "metadata": {},
   "source": [
    "### Load and Output the Images"
   ]
  },
  {
   "cell_type": "code",
   "execution_count": 22,
   "metadata": {},
   "outputs": [
    {
     "data": {
      "image/png": "[encoded data removed]",
      "text/plain": [
       "<Figure size 720x720 with 5 Axes>"
      ]
     },
     "metadata": {},
     "output_type": "display_data"
    }
   ],
   "source": [
    "### Load the images and plot them here.\n",
    "### Feel free to use as many code cells as needed.\n",
    "\n",
    "test_images = []\n",
    "test_images_normalized = []\n",
    "test_labels = []\n",
    "indexs = random.sample(range(0,n_test), 5)\n",
    "fig, axs = plt.subplots(1,5, figsize=(10, 10))\n",
    "axs = axs.ravel()\n",
    "\n",
    "for i in range(0,5):\n",
    "    axs[i].imshow(X_test_normalized[indexs[i]].squeeze(),cmap='gray')\n",
    "    test_images.append(X_test[indexs[i]])\n",
    "    test_images_normalized.append(X_test_normalized[indexs[i]])\n",
    "    test_labels.append(y_test[indexs[i]])\n",
    "    "
   ]
  },
  {
   "cell_type": "markdown",
   "metadata": {},
   "source": [
    "### Predict the Sign Type for Each Image"
   ]
  },
  {
   "cell_type": "code",
   "execution_count": 23,
   "metadata": {},
   "outputs": [
    {
     "name": "stdout",
     "output_type": "stream",
     "text": [
      "Testing LeNet model...\n",
      "INFO:tensorflow:Restoring parameters from ./lenet\n",
      "\n",
      "Image 1 ...\n",
      "Test Accuracy = 1.000\n",
      "\n",
      "Image 2 ...\n",
      "Test Accuracy = 1.000\n",
      "\n",
      "Image 3 ...\n",
      "Test Accuracy = 1.000\n",
      "\n",
      "Image 4 ...\n",
      "Test Accuracy = 1.000\n",
      "\n",
      "Image 5 ...\n",
      "Test Accuracy = 1.000\n",
      "\n"
     ]
    }
   ],
   "source": [
    "### Run the predictions here and use the model to output the prediction for each image.\n",
    "### Make sure to pre-process the images with the same pre-processing pipeline used earlier.\n",
    "### Feel free to use as many code cells as needed.\n",
    "\n",
    "with tf.Session() as sess:\n",
    "    print(\"Testing LeNet model...\")\n",
    "    sess.run(tf.global_variables_initializer())\n",
    "    L_saver.restore(sess,\"./lenet\")\n",
    "    print()\n",
    "    store_results = []\n",
    "    \n",
    "    for i in range(0,len(test_images)):\n",
    "        test_image = []\n",
    "        test_label = []\n",
    "        test_image.append(test_images_normalized[i])\n",
    "        test_label.append(test_labels[i])\n",
    "        test_image = np.array(test_image)\n",
    "        test_label = np.array(test_label)\n",
    "        test_accuracy = L_evaluate(test_image, test_label)\n",
    "        print(\"Image {} ...\".format(i+1))\n",
    "        print(\"Test Accuracy = {:.3f}\".format(test_accuracy))\n",
    "        print()\n",
    "        store_results.append(test_accuracy)\n",
    "        "
   ]
  },
  {
   "cell_type": "markdown",
   "metadata": {},
   "source": [
    "### Analyze Performance"
   ]
  },
  {
   "cell_type": "code",
   "execution_count": 24,
   "metadata": {},
   "outputs": [
    {
     "name": "stdout",
     "output_type": "stream",
     "text": [
      "LeNet model shows 100.0% accuracy performance result for given test images\n",
      "(5, 32, 32, 3)\n",
      "(5, 32, 32, 1)\n"
     ]
    }
   ],
   "source": [
    "### Calculate the accuracy for these 5 new images. \n",
    "### For example, if the model predicted 1 out of 5 signs correctly, it's 20% accurate on these new images.\n",
    "Accuracy = sum(store_results)/len(store_results)*100\n",
    "print (\"LeNet model shows {}% accuracy performance result for given test images\".format(Accuracy))\n",
    "print ()\n"
   ]
  },
  {
   "cell_type": "markdown",
   "metadata": {},
   "source": [
    "### Output Top 5 Softmax Probabilities For Each Image Found on the Web"
   ]
  },
  {
   "cell_type": "markdown",
   "metadata": {},
   "source": [
    "For each of the new images, print out the model's softmax probabilities to show the **certainty** of the model's predictions (limit the output to the top 5 probabilities for each image). [`tf.nn.top_k`](https://www.tensorflow.org/versions/r0.12/api_docs/python/nn.html#top_k) could prove helpful here. \n",
    "\n",
    "The example below demonstrates how tf.nn.top_k can be used to find the top k predictions for each image.\n",
    "\n",
    "`tf.nn.top_k` will return the values and indices (class ids) of the top k predictions. So if k=3, for each sign, it'll return the 3 largest probabilities (out of a possible 43) and the correspoding class ids.\n",
    "\n",
    "Take this numpy array as an example. The values in the array represent predictions. The array contains softmax probabilities for five candidate images with six possible classes. `tf.nn.top_k` is used to choose the three classes with the highest probability:\n",
    "\n",
    "```\n",
    "# (5, 6) array\n",
    "a = np.array([[ 0.24879643,  0.07032244,  0.12641572,  0.34763842,  0.07893497,\n",
    "         0.12789202],\n",
    "       [ 0.28086119,  0.27569815,  0.08594638,  0.0178669 ,  0.18063401,\n",
    "         0.15899337],\n",
    "       [ 0.26076848,  0.23664738,  0.08020603,  0.07001922,  0.1134371 ,\n",
    "         0.23892179],\n",
    "       [ 0.11943333,  0.29198961,  0.02605103,  0.26234032,  0.1351348 ,\n",
    "         0.16505091],\n",
    "       [ 0.09561176,  0.34396535,  0.0643941 ,  0.16240774,  0.24206137,\n",
    "         0.09155967]])\n",
    "```\n",
    "\n",
    "Running it through `sess.run(tf.nn.top_k(tf.constant(a), k=3))` produces:\n",
    "\n",
    "```\n",
    "TopKV2(values=array([[ 0.34763842,  0.24879643,  0.12789202],\n",
    "       [ 0.28086119,  0.27569815,  0.18063401],\n",
    "       [ 0.26076848,  0.23892179,  0.23664738],\n",
    "       [ 0.29198961,  0.26234032,  0.16505091],\n",
    "       [ 0.34396535,  0.24206137,  0.16240774]]), indices=array([[3, 0, 5],\n",
    "       [0, 1, 4],\n",
    "       [0, 5, 1],\n",
    "       [1, 3, 5],\n",
    "       [1, 4, 3]], dtype=int32))\n",
    "```\n",
    "\n",
    "Looking just at the first row we get `[ 0.34763842,  0.24879643,  0.12789202]`, you can confirm these are the 3 largest probabilities in `a`. You'll also notice `[3, 0, 5]` are the corresponding indices."
   ]
  },
  {
   "cell_type": "code",
   "execution_count": 36,
   "metadata": {},
   "outputs": [
    {
     "name": "stdout",
     "output_type": "stream",
     "text": [
      "original test images shape:    (5, 32, 32, 3)\n",
      "normalized test images shape:  (5, 32, 32, 1)\n",
      "\n",
      "INFO:tensorflow:Restoring parameters from ./lenet\n"
     ]
    },
    {
     "data": {
      "image/png": "[encoded data removed]",
      "text/plain": [
       "<Figure size 864x864 with 30 Axes>"
      ]
     },
     "metadata": {},
     "output_type": "display_data"
    }
   ],
   "source": [
    "### Print out the top five softmax probabilities for the predictions on the German traffic sign images found on the web. \n",
    "### Feel free to use as many code cells as needed.\n",
    "\n",
    "test_images = np.array(test_images)\n",
    "test_images_normalized = np.array(test_images_normalized)\n",
    "print (\"original test images shape:   \",test_images.shape)\n",
    "print (\"normalized test images shape: \",test_images_normalized.shape)\n",
    "print ()\n",
    "\n",
    "L_softmax_logits = tf.nn.softmax(L_logits)\n",
    "L_top = tf.nn.top_k(L_softmax_logits, k = 5)\n",
    "\n",
    "with tf.Session() as sess:\n",
    "    sess.run(tf.global_variables_initializer())\n",
    "    L_saver.restore(sess, \"./lenet\")\n",
    "    L_top_k = sess.run(L_top, feed_dict={L_x: test_images_normalized, L_keep_prob: 1.0})\n",
    "    \n",
    "    fig, axs = plt.subplots(len(test_images),6, figsize=(12, 12))\n",
    "    fig.subplots_adjust(hspace = .2, wspace=.4)\n",
    "    axs = axs.ravel()\n",
    "    \n",
    "    for i in range(5):\n",
    "        axs[6*i].axis('off')\n",
    "        axs[6*i].imshow(test_images[i])\n",
    "        axs[6*i].set_title('Original')\n",
    "        guess1 = L_top_k[1][i][0]\n",
    "        index1 = np.argwhere(y_valid == guess1)[0]\n",
    "        axs[6*i+1].axis('off')\n",
    "        axs[6*i+1].imshow(X_valid_normalized[index1].squeeze(), cmap='gray')\n",
    "        axs[6*i+1].set_title('Guess1: {} ({:.0f}%)'.format(guess1, 100*L_top_k[0][i][0]))\n",
    "        guess2 = L_top_k[1][i][1]\n",
    "        index2 = np.argwhere(y_valid == guess2)[0]\n",
    "        axs[6*i+2].axis('off')\n",
    "        axs[6*i+2].imshow(X_valid_normalized[index2].squeeze(), cmap='gray')\n",
    "        axs[6*i+2].set_title('Guess2: {} ({:.0f}%)'.format(guess2, 100*L_top_k[0][i][1]))\n",
    "        guess3 = L_top_k[1][i][2]\n",
    "        index3 = np.argwhere(y_valid == guess3)[0]\n",
    "        axs[6*i+1].axis('off')\n",
    "        axs[6*i+1].imshow(X_valid_normalized[index3].squeeze(), cmap='gray')\n",
    "        axs[6*i+1].set_title('Guess3: {} ({:.0f}%)'.format(guess3, 100*L_top_k[0][i][2]))\n",
    "        guess4 = L_top_k[1][i][3]\n",
    "        index4 = np.argwhere(y_valid == guess4)[0]\n",
    "        axs[6*i+1].axis('off')\n",
    "        axs[6*i+1].imshow(X_valid_normalized[index4].squeeze(), cmap='gray')\n",
    "        axs[6*i+1].set_title('Guess4: {} ({:.0f}%)'.format(guess4, 100*L_top_k[0][i][3]))\n",
    "        guess5 = L_top_k[1][i][4]\n",
    "        index5 = np.argwhere(y_valid == guess5)[0]\n",
    "        axs[6*i+1].axis('off')\n",
    "        axs[6*i+1].imshow(X_valid_normalized[index5].squeeze(), cmap='gray')\n",
    "        axs[6*i+1].set_title('Guess5: {} ({:.0f}%)'.format(guess1, 100*L_top_k[0][i][0]))\n",
    "        \n",
    "        \n",
    "        \n",
    "        \n",
    "        \n",
    "        "
   ]
  },
  {
   "cell_type": "markdown",
   "metadata": {},
   "source": [
    "### Project Writeup\n",
    "\n",
    "Once you have completed the code implementation, document your results in a project writeup using this [template](https://github.com/udacity/CarND-Traffic-Sign-Classifier-Project/blob/master/writeup_template.md) as a guide. The writeup can be in a markdown or pdf file. "
   ]
  },
  {
   "cell_type": "markdown",
   "metadata": {},
   "source": [
    "> **Note**: Once you have completed all of the code implementations and successfully answered each question above, you may finalize your work by exporting the iPython Notebook as an HTML document. You can do this by using the menu above and navigating to  \\n\",\n",
    "    \"**File -> Download as -> HTML (.html)**. Include the finished document along with this notebook as your submission."
   ]
  },
  {
   "cell_type": "markdown",
   "metadata": {},
   "source": [
    "---\n",
    "\n",
    "## Step 4 (Optional): Visualize the Neural Network's State with Test Images\n",
    "\n",
    " This Section is not required to complete but acts as an additional excersise for understaning the output of a neural network's weights. While neural networks can be a great learning device they are often referred to as a black box. We can understand what the weights of a neural network look like better by plotting their feature maps. After successfully training your neural network you can see what it's feature maps look like by plotting the output of the network's weight layers in response to a test stimuli image. From these plotted feature maps, it's possible to see what characteristics of an image the network finds interesting. For a sign, maybe the inner network feature maps react with high activation to the sign's boundary outline or to the contrast in the sign's painted symbol.\n",
    "\n",
    " Provided for you below is the function code that allows you to get the visualization output of any tensorflow weight layer you want. The inputs to the function should be a stimuli image, one used during training or a new one you provided, and then the tensorflow variable name that represents the layer's state during the training process, for instance if you wanted to see what the [LeNet lab's](https://classroom.udacity.com/nanodegrees/nd013/parts/fbf77062-5703-404e-b60c-95b78b2f3f9e/modules/6df7ae49-c61c-4bb2-a23e-6527e69209ec/lessons/601ae704-1035-4287-8b11-e2c2716217ad/concepts/d4aca031-508f-4e0b-b493-e7b706120f81) feature maps looked like for it's second convolutional layer you could enter conv2 as the tf_activation variable.\n",
    "\n",
    "For an example of what feature map outputs look like, check out NVIDIA's results in their paper [End-to-End Deep Learning for Self-Driving Cars](https://devblogs.nvidia.com/parallelforall/deep-learning-self-driving-cars/) in the section Visualization of internal CNN State. NVIDIA was able to show that their network's inner weights had high activations to road boundary lines by comparing feature maps from an image with a clear path to one without. Try experimenting with a similar test to show that your trained network's weights are looking for interesting features, whether it's looking at differences in feature maps from images with or without a sign, or even what feature maps look like in a trained network vs a completely untrained one on the same sign image.\n",
    "\n",
    "<figure>\n",
    " <img src=\"visualize_cnn.png\" width=\"380\" alt=\"Combined Image\" />\n",
    " <figcaption>\n",
    " <p></p> \n",
    " <p style=\"text-align: center;\"> Your output should look something like this (above)</p> \n",
    " </figcaption>\n",
    "</figure>\n",
    " <p></p> \n"
   ]
  },
  {
   "cell_type": "code",
   "execution_count": 15,
   "metadata": {},
   "outputs": [],
   "source": [
    "### Visualize your network's feature maps here.\n",
    "### Feel free to use as many code cells as needed.\n",
    "\n",
    "# image_input: the test image being fed into the network to produce the feature maps\n",
    "# tf_activation: should be a tf variable name used during your training procedure that represents the calculated state of a specific weight layer\n",
    "# activation_min/max: can be used to view the activation contrast in more detail, by default matplot sets min and max to the actual min and max values of the output\n",
    "# plt_num: used to plot out multiple different weight feature map sets on the same block, just extend the plt number for each new feature map entry\n",
    "\n",
    "def outputFeatureMap(image_input, tf_activation, activation_min=-1, activation_max=-1 ,plt_num=1):\n",
    "    # Here make sure to preprocess your image_input in a way your network expects\n",
    "    # with size, normalization, ect if needed\n",
    "    # image_input =\n",
    "    # Note: x should be the same name as your network's tensorflow data placeholder variable\n",
    "    # If you get an error tf_activation is not defined it may be having trouble accessing the variable from inside a function\n",
    "    activation = tf_activation.eval(session=sess,feed_dict={x : image_input})\n",
    "    featuremaps = activation.shape[3]\n",
    "    plt.figure(plt_num, figsize=(15,15))\n",
    "    for featuremap in range(featuremaps):\n",
    "        plt.subplot(6,8, featuremap+1) # sets the number of feature maps to show on each row and column\n",
    "        plt.title('FeatureMap ' + str(featuremap)) # displays the feature map number\n",
    "        if activation_min != -1 & activation_max != -1:\n",
    "            plt.imshow(activation[0,:,:, featuremap], interpolation=\"nearest\", vmin =activation_min, vmax=activation_max, cmap=\"gray\")\n",
    "        elif activation_max != -1:\n",
    "            plt.imshow(activation[0,:,:, featuremap], interpolation=\"nearest\", vmax=activation_max, cmap=\"gray\")\n",
    "        elif activation_min !=-1:\n",
    "            plt.imshow(activation[0,:,:, featuremap], interpolation=\"nearest\", vmin=activation_min, cmap=\"gray\")\n",
    "        else:\n",
    "            plt.imshow(activation[0,:,:, featuremap], interpolation=\"nearest\", cmap=\"gray\")"
   ]
  }
 ],
 "metadata": {
  "anaconda-cloud": {},
  "kernelspec": {
   "display_name": "Python 3",
   "language": "python",
   "name": "python3"
  },
  "language_info": {
   "codemirror_mode": {
    "name": "ipython",
    "version": 3
   },
   "file_extension": ".py",
   "mimetype": "text/x-python",
   "name": "python",
   "nbconvert_exporter": "python",
   "pygments_lexer": "ipython3",
   "version": "3.5.2"
  }
 },
 "nbformat": 4,
 "nbformat_minor": 1
}
